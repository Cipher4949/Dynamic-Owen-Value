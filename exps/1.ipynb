{
 "cells": [
  {
   "cell_type": "code",
   "execution_count": 1,
   "metadata": {},
   "outputs": [],
   "source": [
    "import numpy as np\n",
    "import pytest\n",
    "import random\n",
    "from sklearn import svm\n",
    "\n",
    "import sys\n",
    "\n",
    "sys.path.append(\"..\")\n",
    "from src.dynamicOwen import BaseOwen, DeltaOwen, PivotOwen, HeurOwen, YnOwen"
   ]
  },
  {
   "cell_type": "code",
   "execution_count": 2,
   "metadata": {},
   "outputs": [
    {
     "name": "stderr",
     "output_type": "stream",
     "text": [
      "100%|██████████| 2/2 [00:00<00:00, 2003.01it/s]\n"
     ]
    }
   ],
   "source": [
    "X = [[0.1, 0.2]] * 20\n",
    "y = ([0] * 10) + ([1] * 10)\n",
    "X = np.asarray(X)\n",
    "y = np.asarray(y)\n",
    "union_d = [\n",
    "            [0, 1, 2, 3],\n",
    "            [4, 5],\n",
    "            [6],\n",
    "            [7, 8, 9],\n",
    "            [10, 11, 12, 13, 14],\n",
    "            [15, 16, 17, 18, 19],\n",
    "        ]\n",
    "for i in range(len(y)):\n",
    "    X[i][0] += random.randint(0, 10) * 0.01\n",
    "    X[i][1] += random.randint(0, 10) * 0.01\n",
    "\n",
    "model = svm.SVC(decision_function_shape=\"ovo\")\n",
    "init_ov = np.zeros(20)\n",
    "\n",
    "heur_owen = HeurOwen(\n",
    "            X,\n",
    "            y,\n",
    "            X,\n",
    "            y,\n",
    "            model,\n",
    "            init_ov,\n",
    "            union_d,\n",
    "            params={\"method\": \"knn+\"},\n",
    "        )\n",
    "heur_owen.prepare(\n",
    "            flags={\"exact\": False, \"train\": True},\n",
    "            params={\n",
    "                \"n_neighbors\": 3,\n",
    "                \"simi_type\": \"ed\",\n",
    "                \"f_shap\": \"n*n\",\n",
    "                \"rela\": [\"poly\", 2],\n",
    "                \"train_idxs\": [3, 11],\n",
    "                \"m\": 10,\n",
    "            },\n",
    "        )\n",
    "ov = heur_owen.add_multi_points(X[:2], y[:2], [2, 3])"
   ]
  }
 ],
 "metadata": {
  "kernelspec": {
   "display_name": "base",
   "language": "python",
   "name": "python3"
  },
  "language_info": {
   "codemirror_mode": {
    "name": "ipython",
    "version": 3
   },
   "file_extension": ".py",
   "mimetype": "text/x-python",
   "name": "python",
   "nbconvert_exporter": "python",
   "pygments_lexer": "ipython3",
   "version": "3.9.13"
  }
 },
 "nbformat": 4,
 "nbformat_minor": 2
}
