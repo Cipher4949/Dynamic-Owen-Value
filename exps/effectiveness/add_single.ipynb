{
 "cells": [
  {
   "cell_type": "markdown",
   "metadata": {
    "collapsed": true,
    "pycharm": {
     "name": "#%% md\n"
    }
   },
   "source": [
    "# Effectiveness - Add a single point"
   ]
  },
  {
   "cell_type": "code",
   "execution_count": 1,
   "metadata": {
    "collapsed": false,
    "pycharm": {
     "name": "#%%\n"
    }
   },
   "outputs": [],
   "source": [
    "import sys\n",
    "sys.path.append(\"../..\")\n",
    "\n",
    "from sklearn import svm\n",
    "import numpy as np\n",
    "from copy import deepcopy\n",
    "\n",
    "import src\n",
    "\n",
    "from src.data_utils import (\n",
    "    load_npy, save_npy, preprocess_data, variance, normalize, generate_union_description\n",
    ")"
   ]
  },
  {
   "cell_type": "code",
   "execution_count": null,
   "metadata": {
    "collapsed": false,
    "pycharm": {
     "name": "#%%\n"
    }
   },
   "outputs": [],
   "source": [
    "# read\n",
    "x_train, y_train, x_test, y_test, columns_name = preprocess_data('train_100p_3c.csv', 'test_100p_3c.csv')\n",
    "\n",
    "# pick a point from test for add\n",
    "select_idx = 25\n",
    "\n",
    "add_point_x = x_test[select_idx][:]\n",
    "add_point_y = y_test[select_idx]\n",
    "\n",
    "x_train_added = np.append(x_train, [x_test[select_idx,:]], axis=0)\n",
    "y_train_added = np.append(y_train, y_test[select_idx])\n",
    "\n",
    "x_test_added = np.delete(x_test, select_idx, axis=0)\n",
    "y_test_added = np.delete(y_test, select_idx)\n",
    "\n",
    "x_test = x_test_added\n",
    "y_test = y_test_added\n",
    "\n",
    "union_d = generate_union_description(len(x_train), 10)\n",
    "union_d_added = deepcopy(union_d)\n",
    "union_d_added[4] = np.append(union_d_added[4], len(x_train))\n",
    "union_d_added_once = deepcopy(union_d_added)\n",
    "union_d_added[9] = np.append(union_d_added[9], len(x_train) + 1)"
   ]
  },
  {
   "cell_type": "code",
   "execution_count": null,
   "metadata": {
    "collapsed": false,
    "pycharm": {
     "name": "#%%\n"
    }
   },
   "outputs": [],
   "source": [
    "#mc plus\n",
    "model = svm.SVC(decision_function_shape='ovo')\n",
    "\n",
    "mc_plus_ov_101 = src.mc_owen(x_train_added, y_train_added, x_test_added, y_test_added, model, union_d_added_once,\n",
    "                                  1000*101, 25)\n",
    "save_npy('mc_plus_ov_101.npy', mc_plus_ov_101)\n",
    "\n",
    "# for simi\n",
    "model = svm.SVC(decision_function_shape='ovo')\n",
    "\n",
    "idxs = [18, 56, 89]\n",
    "\n",
    "for idx in idxs:\n",
    "    new_union_d = deepcopy(union_d)\n",
    "    for _ in new_union_d:\n",
    "        if idx in _:\n",
    "            _.remove(idx)\n",
    "    save_npy('mc_plus_ov_99_del'+str(idx)+'.npy',\n",
    "             src.mc_owen(np.delete(x_train, idx, axis=0), np.delete(y_train, idx),\n",
    "                     x_test_added, y_test_added, model, new_union_d,\n",
    "                              1000*99, 25)\n",
    "            )\n",
    "# mc part\n",
    "model = svm.SVC(decision_function_shape='ovo')\n",
    "\n",
    "\n",
    "for i in range(1):\n",
    "    mc_ov_101 = src.mc_owen(x_train_added, y_train_added, x_test_added, y_test_added, model, union_d_added_once,\n",
    "                                 101*100, 25)\n",
    "    save_npy('mc_ov_101.npy'+str(i), mc_ov_101)\n",
    "    # mc_ov_101 and mc_ov_101 (many permutations)\n",
    "    var1 = variance(mc_plus_ov_101[:100], normalize(mc_plus_ov_101[:100], mc_ov_101[:100]))\n",
    "    print(\"variance of MC   \\t : %.10f\" % var1)\n",
    "\n",
    "# plus version\n",
    "model = svm.SVC(decision_function_shape='ovo')\n",
    "\n",
    "pivot_owen = src.PivotOwen(x_train, y_train, x_test, y_test, model, init_sv=[], union_description=union_d)\n",
    "pivot_owen.prepare(100000, proc_num=25)\n",
    "\n",
    "pivot_ov_101 = pivot_owen.add_single_point(add_point_x, add_point_y, 4,\n",
    "                                           101*100)\n",
    "save_npy('pivot_ov_101_plus.npy', pivot_ov_101)\n",
    "\n",
    "# init sv\n",
    "model = svm.SVC(decision_function_shape='ovo')\n",
    "\n",
    "mc_plus_ov_100 = src.mc_owen(x_train, y_train, x_test_added, y_test_added, model, union_d,\n",
    "                                 1000*len(y_train), 4)\n",
    "save_npy('mc_plus_ov_100.npy', mc_plus_ov_100)\n",
    "\n",
    "model = svm.SVC(decision_function_shape='ovo')\n",
    "mc_ov_101 = src.mc_owen(x_train_added, y_train_added, x_test_added, y_test_added, model, union_d_added_once,\n",
    "                           100*len(y_train_added), 1)\n",
    "save_npy('mc_ov_101.npy', mc_ov_101)\n",
    "\n",
    "# delta\n",
    "init_ov = load_npy('mc_plus_ov_100.npy')\n",
    "\n",
    "delta_owen = src.DeltaOwen(x_train, y_train, x_test_added, y_test_added, model,\n",
    "                                init_ov, union_d)\n",
    "delta_ov_101 = delta_owen.add_single_point(add_point_x, add_point_y, 4,\n",
    "                            100*(len(y_train)+1))\n",
    "\n",
    "save_npy('delta_ov_101.npy', delta_ov_101)\n",
    "\n",
    "# pivot\n",
    "init_ov = load_npy('mc_plus_ov_100.npy')\n",
    "\n",
    "pivot_owen = src.PivotOwen(x_train, y_train, x_test_added, y_test_added, model,\n",
    "                              init_ov, union_d)\n",
    "\n",
    "lov_100 = pivot_owen.prepare(1000*len(y_train))\n",
    "save_npy('lov_100.npy', lov_100)\n",
    "\n",
    "ov_101 = pivot_owen.add_single_point(add_point_x[0], add_point_y[0], 4,\n",
    "                            100*(len(y_train)+1), flags={'flag_lov': True})\n",
    "\n",
    "pivot_owen.x_train = np.append(x_train, [add_point_x[0]], axis=0)\n",
    "pivot_owen.y_train = np.append(y_train, add_point_y[0])\n",
    "pivot_owen.union_description = union_d_added_once\n",
    "\n",
    "pivot_ov_101 = pivot_owen.add_single_point(add_point_x[1], add_point_y[1], 9,\n",
    "                                        100*(len(y_train)+2), flags={'flag_lov': True})\n",
    "\n",
    "save_npy('pivot_ov_101.npy', pivot_ov_101)"
   ]
  },
  {
   "cell_type": "code",
   "execution_count": null,
   "metadata": {
    "collapsed": false,
    "pycharm": {
     "name": "#%%\n"
    }
   },
   "outputs": [],
   "source": [
    "model = svm.SVC(decision_function_shape='ovo')\n",
    "init_ov = load_npy('mc_plus_ov_100.npy')\n",
    "\n",
    "# KNN\n",
    "heur_owen = src.HeurOwen(x_train, y_train,\n",
    "                              x_test_added, y_test_added,\n",
    "                              model, init_ov, union_d, \n",
    "                              params={'method': 'knn'})\n",
    "heur_owen.prepare(params={'n_neighbors': 3})\n",
    "knn_ov_101 = heur_owen.add_single_point(add_point_x, add_point_y)\n",
    "save_npy('knn_ov_101.npy', knn_ov_101)\n",
    "\n",
    "# for simi\n",
    "model = svm.SVC(decision_function_shape='ovo')\n",
    "\n",
    "idxs = [18, 56, 89]\n",
    "ovs = list()\n",
    "\n",
    "for idx in idxs:\n",
    "    new_union_d = deepcopy(union_d)\n",
    "    for _ in new_union_d:\n",
    "        if idx in _:\n",
    "            _.remove(idx)\n",
    "    ov = src.mc_owen(np.delete(x_train, idx, axis=0),\n",
    "                          np.delete(y_train, idx),\n",
    "                          x_test_added, y_test_added,\n",
    "                          model, new_union_d, 1000*99, 4)\n",
    "    save_npy('mc_plus_sv_99_del'+str(idx)+'.npy', ov)\n",
    "    ovs.append(ov)\n",
    "\n",
    "ovs = np.asarray(ovs)\n",
    "\n",
    "save_npy('knn_plus_ovs.npy', ovs)\n",
    "\n",
    "\n",
    "# KNN+\n",
    "heur_shap = src.HeurOwen(x_train, y_train,\n",
    "                              x_test_added, y_test_added,\n",
    "                              model, init_ov, union_d,\n",
    "                              params={'method': 'knn+'})\n",
    "\n",
    "heur_shap.prepare(flags={'exact': False, 'train': False},\n",
    "                  params={'n_neighbors': 3,\n",
    "                          'simi_type': 'ed',\n",
    "                          'f_shap': 'n*n',\n",
    "                          'rela': ['poly', 1],\n",
    "                          'train_idxs': [18, 56, 89],\n",
    "                          'train_ovs': load_npy('knn_plus_ovs.npy')})\n",
    "\n",
    "knn_plus_ov_101 = heur_shap.add_single_point(add_point_x, add_point_y, 4)\n",
    "save_npy('knn_plus_ov_101.npy', knn_plus_ov_101)"
   ]
  },
  {
   "cell_type": "code",
   "execution_count": null,
   "metadata": {
    "collapsed": false,
    "pycharm": {
     "name": "#%%\n"
    }
   },
   "outputs": [],
   "source": [
    "model = svm.SVC(decision_function_shape='ovo')\n",
    "init_ov = load_npy('mc_plus_ov_100.npy')\n",
    "base_owen = src.BaseOwen(x_train, y_train, x_test_added,\n",
    "                              y_test_added, model, init_ov, union_d)\n",
    "\n",
    "# average based\n",
    "base_ov_101_gavg = base_owen.add_single_point(add_point_x,\n",
    "                                            add_point_y,\n",
    "                                            4,\n",
    "                                            params={'method': 'gavg'})\n",
    "\n",
    "# leave one out based\n",
    "base_ov_101_lavg = base_owen.add_single_point(add_point_x,\n",
    "                                            add_point_y,\n",
    "                                            4,\n",
    "                                            params={'method': 'lavg'})\n",
    "\n",
    "save_npy('base_ov_101_gavg.npy', base_ov_101_gavg)\n",
    "\n",
    "save_npy('base_ov_101_lavg.npy', base_ov_101_lavg)\n",
    "\n",
    "# comparison\n",
    "def comp(base_v, comp_ov, name):\n",
    "    var = variance(base_v, normalize(base_v, comp_ov))\n",
    "    print(\"variance of %s   \\t : %.10f\" % (name, var))\n",
    "\n",
    "mc_plus_ov_101 = load_npy('mc_plus_ov_101.npy')\n",
    "\n",
    "comp(mc_plus_ov_101, load_npy('delta_ov_101.npy'), 'delta')\n",
    "comp(mc_plus_ov_101, load_npy('pivot_ov_101.npy'), 'pivot')\n",
    "comp(mc_plus_ov_101, load_npy('knn_ov_101.npy'), 'knn')\n",
    "comp(mc_plus_ov_101, load_npy('knn_plus_ov_101.npy'), 'knn+')\n",
    "comp(mc_plus_ov_101, load_npy('mc_ov_101.npy'), 'mc')\n",
    "comp(mc_plus_ov_101, load_npy('base_ov_101_lavg.npy'), 'base lavg')\n",
    "comp(mc_plus_ov_101, load_npy('base_ov_101_gavg.npy'), 'base gavg')"
   ]
  }
 ],
 "metadata": {
  "kernelspec": {
   "display_name": "Python 3",
   "language": "python",
   "name": "python3"
  },
  "language_info": {
   "codemirror_mode": {
    "name": "ipython",
    "version": 3
   },
   "file_extension": ".py",
   "mimetype": "text/x-python",
   "name": "python",
   "nbconvert_exporter": "python",
   "pygments_lexer": "ipython3",
   "version": "3.9.13"
  }
 },
 "nbformat": 4,
 "nbformat_minor": 0
}
