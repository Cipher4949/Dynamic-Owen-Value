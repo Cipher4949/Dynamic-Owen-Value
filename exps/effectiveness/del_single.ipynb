{
 "cells": [
  {
   "cell_type": "markdown",
   "metadata": {
    "collapsed": false,
    "pycharm": {
     "name": "#%% md\n"
    }
   },
   "source": [
    "# Effectiveness - Delete a single point\n"
   ]
  },
  {
   "cell_type": "code",
   "execution_count": null,
   "metadata": {
    "collapsed": false,
    "pycharm": {
     "name": "#%%\n"
    }
   },
   "outputs": [],
   "source": [
    "import sys\n",
    "sys.path.append(\"../..\")\n",
    "\n",
    "from sklearn import svm\n",
    "import numpy as np\n",
    "from copy import deepcopy\n",
    "\n",
    "import src\n",
    "\n",
    "from src.data_utils import (\n",
    "    load_npy, save_npy, preprocess_data, variance, normalize, generate_union_description\n",
    ")"
   ]
  },
  {
   "cell_type": "code",
   "execution_count": null,
   "metadata": {
    "collapsed": false,
    "pycharm": {
     "name": "#%%\n"
    }
   },
   "outputs": [],
   "source": [
    "model = svm.SVC(decision_function_shape='ovo')\n",
    "x_train, y_train, x_test, y_test, _ = preprocess_data('train_100p_3c.csv', 'test_100p_3c.csv')\n",
    "union_d = generate_union_description(len(x_train), 10)\n",
    "\n",
    "mc_plus_ov_99 = src.mc_owen(x_train[:99], y_train[:99], x_test, y_test, model, union_d, m=99*1000)\n",
    "save_npy('mc_plus_ov_99.npy', mc_plus_ov_99)\n",
    "\n",
    "mc_ov_99 = src.mc_owen(x_train[:99], y_train[:99], x_test, y_test, model, union_d, m=99*100)\n",
    "save_npy('mc_ov_99.npy', mc_plus_ov_99)"
   ]
  },
  {
   "cell_type": "code",
   "execution_count": null,
   "metadata": {
    "collapsed": false,
    "pycharm": {
     "name": "#%%\n"
    }
   },
   "outputs": [],
   "source": [
    "# delta\n",
    "init_ov = load_npy('mc_plus_ov_100.npy')\n",
    "\n",
    "delta_shap = src.DeltaOwen(x_train, y_train, x_test, y_test, model,\n",
    "                                init_ov)\n",
    "delta_ov_99 = delta_shap.del_single_point(99, 100*(len(y_train)-1))\n",
    "\n",
    "save_npy('delta_ov_99.npy', delta_ov_99)"
   ]
  },
  {
   "cell_type": "code",
   "execution_count": null,
   "metadata": {
    "collapsed": false,
    "pycharm": {
     "name": "#%%\n"
    }
   },
   "outputs": [],
   "source": [
    "model = svm.SVC(decision_function_shape='ovo')\n",
    "init_ov = load_npy('mc_plus_ov_100.npy')\n",
    "\n",
    "# KNN\n",
    "heur_shap = src.HeurOwen(x_train, y_train,\n",
    "                              x_test, y_test,\n",
    "                              model, init_ov, union_d,\n",
    "                              params={'method': 'knn'})\n",
    "heur_shap.prepare(params={'n_neighbors': 3})\n",
    "knn_ov_99 = heur_shap.del_single_point(99)\n",
    "save_npy('knn_ov_99.npy', knn_ov_99)\n",
    "\n",
    "# for simi\n",
    "model = svm.SVC(decision_function_shape='ovo')\n",
    "\n",
    "idxs = [18, 56, 89]\n",
    "ovs = list()\n",
    "\n",
    "for idx in idxs:\n",
    "    new_union_d = deepcopy(union_d)\n",
    "    for _ in new_union_d:\n",
    "        if idx in _:\n",
    "            _.remove(idx)\n",
    "    ov = src.mc_owen(np.delete(x_train, idx, axis=0),\n",
    "                          np.delete(y_train, idx),\n",
    "                          x_test, y_test,\n",
    "                          model, new_union_d, 1000*99, 4)\n",
    "    save_npy('mc_plus_ov_99_del'+str(idx)+'.npy', ov)\n",
    "    ovs.append(ov)\n",
    "\n",
    "ovs = np.asarray(ovs)\n",
    "\n",
    "save_npy('knn_plus_ovs.npy', ovs)\n",
    "\n",
    "# KNN+\n",
    "heur_shap = src.HeurOwen(x_train, y_train,\n",
    "                              x_test, y_test,\n",
    "                              model, init_ov, union_d,\n",
    "                              params={'method': 'knn+'})\n",
    "\n",
    "heur_shap.prepare(flags={'exact': False, 'train': False},\n",
    "                  params={'n_neighbors': 3,\n",
    "                          'simi_type': 'ed',\n",
    "                          'f_shap': 'n*n',\n",
    "                          'rela': ['poly', 1],\n",
    "                          'train_idxs': [18, 56, 89],\n",
    "                          'train_ovs': load_npy('knn_plus_ovs.npy')})\n",
    "\n",
    "knn_plus_ov_99 = heur_shap.del_single_point(99)\n",
    "save_npy('knn_plus_ov_99.npy', knn_plus_ov_99)"
   ]
  },
  {
   "cell_type": "code",
   "execution_count": null,
   "metadata": {
    "collapsed": false,
    "pycharm": {
     "name": "#%%\n"
    }
   },
   "outputs": [],
   "source": [
    "# comparison\n",
    "def comp(base_v, comp_ov, name):\n",
    "    var = variance(base_v, normalize(base_v, comp_ov))\n",
    "    print(\"variance of %s   \\t : %.10f\" % (name, var))\n",
    "    "
   ]
  },
  {
   "cell_type": "code",
   "execution_count": null,
   "metadata": {
    "collapsed": false,
    "pycharm": {
     "name": "#%%\n"
    }
   },
   "outputs": [],
   "source": [
    "comp(mc_plus_ov_99, load_npy('delta_ov_99.npy'), 'delta')\n",
    "comp(mc_plus_ov_99, load_npy('knn_ov_99.npy'), 'knn')\n",
    "comp(mc_plus_ov_99, load_npy('knn_plus_ov_99.npy'), 'knn+')\n",
    "comp(mc_plus_ov_99, load_npy('mc_ov_99.npy'), 'mc')"
   ]
  }
 ],
 "metadata": {
  "kernelspec": {
   "display_name": "Python 3",
   "language": "python",
   "name": "python3"
  },
  "language_info": {
   "codemirror_mode": {
    "name": "ipython",
    "version": 2
   },
   "file_extension": ".py",
   "mimetype": "text/x-python",
   "name": "python",
   "nbconvert_exporter": "python",
   "pygments_lexer": "ipython2",
   "version": "2.7.6"
  }
 },
 "nbformat": 4,
 "nbformat_minor": 0
}
