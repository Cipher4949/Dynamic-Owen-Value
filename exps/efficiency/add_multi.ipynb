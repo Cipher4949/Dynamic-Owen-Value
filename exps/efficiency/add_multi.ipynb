{
 "cells": [
  {
   "cell_type": "markdown",
   "metadata": {
    "collapsed": true,
    "pycharm": {
     "name": "#%% md\n"
    }
   },
   "source": [
    "# Efficiency - Add multiple points\n",
    "\n",
    "| comparable algo list |\n",
    "| - |\n",
    "| pivot |\n",
    "| delta |\n",
    "| Monte Carlo |"
   ]
  },
  {
   "cell_type": "code",
   "execution_count": 1,
   "metadata": {
    "collapsed": false,
    "pycharm": {
     "name": "#%%\n"
    }
   },
   "outputs": [],
   "source": [
    "import sys\n",
    "sys.path.append(\"../..\")\n",
    "\n",
    "from sklearn import svm\n",
    "import numpy as np\n",
    "from copy import deepcopy\n",
    "\n",
    "import src\n",
    "\n",
    "from src.data_utils import (\n",
    "    load_npy, save_npy, preprocess_data, variance, normalize, generate_union_description\n",
    ")"
   ]
  },
  {
   "cell_type": "code",
   "execution_count": null,
   "metadata": {
    "collapsed": false,
    "pycharm": {
     "name": "#%%\n"
    }
   },
   "outputs": [],
   "source": [
    "model = svm.SVC(decision_function_shape='ovo')\n",
    "\n",
    "# size_choices = [10, 100, 1000, 10000]\n",
    "size_choices = [10, 100, 200]\n",
    "m_choices = [10, 15, 18, 20, 22, 25, 28, 30]\n",
    "stone_m = 100\n",
    "\n",
    "for size in size_choices:\n",
    "    x_train, y_train, x_test, y_test, \\\n",
    "    columns_name = preprocess_data(\n",
    "        't_train_' + str(size) + 'p.csv',\n",
    "        't_test_' + str(size) + 'p.csv')\n",
    "\n",
    "    # process data\n",
    "    x_train_ = x_train[:-2]\n",
    "    y_train_ = y_train[:-2]\n",
    "\n",
    "    # for add\n",
    "    add_points_x = x_train[-2:, :]\n",
    "    add_points_y = y_train[-2:]\n",
    "\n",
    "    x_test_ = x_test\n",
    "    y_test_ = y_test\n",
    "\n",
    "    union_d = generate_union_description(len(x_train), 10)\n",
    "    union_d_ = deepcopy(union_d)\n",
    "    for idx in [len(x_train), len(x_train) - 1]:\n",
    "        for _ in union_d_:\n",
    "            if idx in _:\n",
    "                _.remove(idx)\n",
    "                break\n",
    "\n",
    "    # get a init ov\n",
    "    init_ov = src.mc_owen(x_train_, y_train_, x_test_, y_test_, model, union_d_,\n",
    "                               stone_m * len(y_train_), proc_num=2)\n",
    "    save_npy('am_init_mc_plus_size' + str(size) + '.npy', init_ov)\n",
    "\n",
    "    # set a stone\n",
    "    mc_plus = src.mc_owen(x_train, y_train, x_test_, y_test_, model, union_d,\n",
    "                               stone_m * len(y_train), proc_num=2)\n",
    "    save_npy('am_mc_plus_size' + str(size) + '.npy', mc_plus)\n",
    "\n",
    "    # mc -> 比较标准\n",
    "    mc = src.mc_owen(x_train, y_train, x_test_, y_test_, model, union_d, stone_m * len(y_train))\n",
    "    save_npy('am_mc'+ str(size) + 'm' + str(stone_m) + '.npy', mc)\n",
    "\n",
    "    # half 需要提前算好的lov\n",
    "    half_owen = src.PivotOwen(x_train_, y_train_, x_test_, y_test_, model,\n",
    "                                  None, union_d_)\n",
    "    lov = half_owen.prepare(m=len(y_train_)*stone_m)\n",
    "    save_npy('am_half_lov_size' + str(size) + '.npy', lov)\n",
    "\n",
    "    # # walk the m choices\n",
    "    for m in m_choices:\n",
    "        # delta\n",
    "        delta_owen = src.DeltaOwen(x_train_, y_train_, x_test_, y_test_, model,\n",
    "                                        init_ov, union_d_)\n",
    "\n",
    "        m_delta_ov = delta_owen.add_single_point(add_points_x[0],\n",
    "                                                 add_points_y[0],\n",
    "                                                 4,\n",
    "                                                 m=(len(y_train_)+1)*m)\n",
    "\n",
    "        m_delta_ov = src.utils.eval_utility(x_train[:-1], y_train[-1], x_test_, y_test_, model)/ \\\n",
    "                     (np.sum(m_delta_ov)* m_delta_ov)\n",
    "        \n",
    "        union_d_delete_last = deepcopy(union_d)\n",
    "        to_add = 0\n",
    "        for i in len(union_d_delete_last): \n",
    "            if len(x_train_) in union_d_delete_last[i]:\n",
    "                to_add = i\n",
    "                union_d_delete_last[i].remove(len(x_train_))\n",
    "                break  \n",
    "        n_delta_owen = src.DeltaOwen(x_train[:-1], y_train[-1], x_test_, y_test_,\n",
    "                                          model, m_delta_ov, union_d_delete_last)\n",
    "\n",
    "        delta_ov = n_delta_owen.add_single_point(add_points_x[1],\n",
    "                                                 add_points_y[1],\n",
    "                                                 to_add,\n",
    "                                                 m=(len(y_train_)+2)*m)\n",
    "        save_npy('am_delta_size' + str(size) +'m' + str(m) + '.npy', delta_ov)\n",
    "\n",
    "        # half\n",
    "        half_owen = src.PivotOwen(x_train_, y_train_, x_test_, y_test_, model,\n",
    "                                      None, union_d_)\n",
    "        half_owen.lov = lov\n",
    "        _ = half_owen.add_single_point(add_points_x[0], add_points_y[0], 4,\n",
    "                                       (len(y_train_)+1)*m,\n",
    "                                       {'flag_lov': True})\n",
    "        half_owen.x_train = x_train[:-1,:]\n",
    "        half_owen.y_train = y_train[:-1]\n",
    "        half_owen.union_description = union_d_delete_last\n",
    "        half_ov = half_owen.add_single_point(add_points_x[1], add_points_y[1], to_add,\n",
    "                                       (len(y_train_)+2)*m,\n",
    "                                       {'flag_lov': True})\n",
    "        save_npy('am_half_size' + str(size) +'m' + str(m) + '.npy', half_ov)"
   ]
  }
 ],
 "metadata": {
  "kernelspec": {
   "display_name": "Python 3",
   "language": "python",
   "name": "python3"
  },
  "language_info": {
   "codemirror_mode": {
    "name": "ipython",
    "version": 3
   },
   "file_extension": ".py",
   "mimetype": "text/x-python",
   "name": "python",
   "nbconvert_exporter": "python",
   "pygments_lexer": "ipython3",
   "version": "3.9.13"
  }
 },
 "nbformat": 4,
 "nbformat_minor": 0
}
