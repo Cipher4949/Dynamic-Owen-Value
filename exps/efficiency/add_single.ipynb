{
 "cells": [
  {
   "cell_type": "markdown",
   "metadata": {
    "collapsed": true,
    "pycharm": {
     "name": "#%% md\n"
    }
   },
   "source": [
    "# Efficiency - Add a single point\n",
    "\n",
    "| comparable algo list |\n",
    "| - |\n",
    "| pivot |\n",
    "| delta |\n",
    "| Monte Carlo |"
   ]
  },
  {
   "cell_type": "code",
   "execution_count": null,
   "metadata": {
    "collapsed": false,
    "pycharm": {
     "name": "#%%\n"
    }
   },
   "outputs": [],
   "source": [
    "import sys\n",
    "sys.path.append(\"../..\")\n",
    "\n",
    "from sklearn import svm\n",
    "import numpy as np\n",
    "from copy import deepcopy\n",
    "\n",
    "import src\n",
    "\n",
    "from src.data_utils import (\n",
    "    load_npy, save_npy, preprocess_data, variance, normalize, generate_union_description\n",
    ")"
   ]
  },
  {
   "cell_type": "code",
   "execution_count": null,
   "metadata": {
    "collapsed": false,
    "pycharm": {
     "name": "#%%\n"
    }
   },
   "outputs": [],
   "source": [
    "model = svm.SVC(decision_function_shape='ovo')\n",
    "\n",
    "size_choices = [10, 100, 1000, 10000]\n",
    "m_choices = [10, 15, 18, 20, 22, 25, 28, 30]\n",
    "\n",
    "stone_m = 100\n",
    "\n",
    "for size in size_choices:\n",
    "    x_train, y_train, x_test, y_test, \\\n",
    "    columns_name = preprocess_data(\n",
    "        't_train_' + str(size) + 'p.csv',\n",
    "        't_test_' + str(size) + 'p.csv')\n",
    "\n",
    "    # process data\n",
    "    x_train_ = x_train[:-1]\n",
    "    y_train_ = y_train[:-1]\n",
    "\n",
    "    # for add\n",
    "    add_point_x = x_train[-1]\n",
    "    add_point_y = y_train[-1]\n",
    "\n",
    "    x_test_ = x_test\n",
    "    y_test_ = y_test\n",
    "\n",
    "    union_d = generate_union_description(len(x_train), 10)\n",
    "    union_d_ = deepcopy(union_d)\n",
    "    for idx in [len(x_train)]:\n",
    "        for _ in union_d_:\n",
    "            if idx in _:\n",
    "                _.remove(idx)\n",
    "                break\n",
    "\n",
    "    # get a init ov\n",
    "    init_ov = src.mc_owen(x_train_, y_train_, x_test_, y_test_, model, union_d_, stone_m * len(y_train_), proc_num=2)\n",
    "    save_npy('as_init_mc_plus_size' + str(size) + '.npy', init_ov)\n",
    "\n",
    "    # set a stone\n",
    "    mc_plus = src.mc_owen(x_train, y_train, x_test_, y_test_, model, union_d, stone_m * len(y_train), proc_num=2)\n",
    "    save_npy('as_mc_plus_size' + str(size) + '.npy', mc_plus)\n",
    "\n",
    "    # left ov for pivot\n",
    "    pivot_owen = src.PivotOwen(x_train_, y_train_, x_test_, y_test_, model,\n",
    "                                   None, union_d_)\n",
    "    lov = pivot_owen.prepare(m=len(y_train_)*stone_m)\n",
    "    save_npy('as_pivot_lov_size' + str(size) + '.npy', lov)\n",
    "\n",
    "    # mc\n",
    "    mc = src.mc_owen(x_train, y_train, x_test_, y_test_, model, union_d, stone_m * len(y_train))\n",
    "    save_npy('as_mc'+ str(size) + 'm' + str(stone_m) + '.npy', mc)\n",
    "\n",
    "    # # walk the m choices\n",
    "    for m in m_choices:\n",
    "\n",
    "        # delta\n",
    "        delta_owen = src.DeltaOwen(x_train_, y_train_, x_test_, y_test_, model,\n",
    "                                        init_ov, union_d_)\n",
    "        delta_ov = delta_owen.add_single_point(add_point_x,\n",
    "                                               add_point_y,\n",
    "                                               4,\n",
    "                                               m=(len(y_train_)+1)*m)\n",
    "        save_npy('as_delta_size' + str(size) +'m' + str(m) + '.npy', delta_ov)\n",
    "\n",
    "        # pivot\n",
    "        pivot_owen = src.PivotOwen(x_train_, y_train_, x_test_, y_test_, model,\n",
    "                                        None, union_d_)\n",
    "        pivot_owen.lov = lov\n",
    "        pivot_ov = pivot_owen.add_single_point(add_point_x, add_point_y, 4,\n",
    "                                               m=(len(y_train_)+1)*m,\n",
    "                                               flags={'flag_lov': True})\n",
    "        save_npy('as_pivot_size' + str(size) +'m' + str(m) + '.npy', pivot_ov)"
   ]
  }
 ],
 "metadata": {
  "kernelspec": {
   "display_name": "Python 3",
   "language": "python",
   "name": "python3"
  },
  "language_info": {
   "codemirror_mode": {
    "name": "ipython",
    "version": 2
   },
   "file_extension": ".py",
   "mimetype": "text/x-python",
   "name": "python",
   "nbconvert_exporter": "python",
   "pygments_lexer": "ipython2",
   "version": "2.7.6"
  }
 },
 "nbformat": 4,
 "nbformat_minor": 0
}
