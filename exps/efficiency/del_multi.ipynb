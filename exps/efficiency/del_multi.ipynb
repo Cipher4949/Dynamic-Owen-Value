{
 "cells": [
  {
   "cell_type": "markdown",
   "metadata": {
    "collapsed": false,
    "pycharm": {
     "name": "#%% md\n"
    }
   },
   "source": [
    "# Efficiency - Delete multiple points\n",
    "\n",
    "| comparable algo list |\n",
    "| - |\n",
    "| delta |\n",
    "| Monte Carlo |"
   ]
  },
  {
   "cell_type": "code",
   "execution_count": null,
   "metadata": {
    "collapsed": false,
    "pycharm": {
     "name": "#%%\n"
    }
   },
   "outputs": [],
   "source": [
    "import sys\n",
    "sys.path.append(\"../..\")\n",
    "\n",
    "from sklearn import svm\n",
    "import numpy as np\n",
    "from copy import deepcopy\n",
    "\n",
    "import src\n",
    "\n",
    "from src.data_utils import (\n",
    "    load_npy, save_npy, preprocess_data, variance, normalize, generate_union_description\n",
    ")"
   ]
  },
  {
   "cell_type": "code",
   "execution_count": null,
   "metadata": {
    "collapsed": false,
    "pycharm": {
     "name": "#%%\n"
    }
   },
   "outputs": [],
   "source": [
    "model = svm.SVC(decision_function_shape='ovo')\n",
    "\n",
    "size_choices = [10, 100, 1000, 10000]\n",
    "m_choices = [10, 15, 18, 20, 22, 25, 28, 30]\n",
    "stone_m = 100\n",
    "\n",
    "# for 200 points\n",
    "size_choices = [200]\n",
    "m_choices = [1, 2, 3, 5, 8]\n",
    "mc_stone = 30\n",
    "\n",
    "for size in size_choices:\n",
    "    x_train, y_train, x_test, y_test, \\\n",
    "    columns_name = preprocess_data(\n",
    "        't_train_' + str(size) + 'p.csv',\n",
    "        't_test_' + str(size) + 'p.csv')\n",
    "\n",
    "    # process data\n",
    "    x_train_ = np.append(x_train, x_test[:2], axis=0)\n",
    "    y_train_ = np.append(y_train, y_test[:2])\n",
    "    x_test_ = x_test[2:, :]\n",
    "    y_test_ = y_test[2:]\n",
    "\n",
    "    union_d = generate_union_description(len(x_train), 10)\n",
    "    union_d_ = deepcopy(union_d)\n",
    "    for idx in [0, 1]:\n",
    "        for _ in union_d_:\n",
    "            if idx in _:\n",
    "                _.remove(idx)\n",
    "                break\n",
    "    union_d_delete_last = deepcopy(union_d)\n",
    "    to_add = 0\n",
    "    for i in len(union_d_delete_last): \n",
    "        if len(x_train) in union_d_delete_last[i]:\n",
    "            to_add = i\n",
    "            union_d_delete_last[i].remove(len(x_train))\n",
    "            break \n",
    "\n",
    "    # get a init ov\n",
    "    init_sv = src.mc_owen(x_train_, y_train_, x_test_, y_test_, model, union_d_, stone_m * len(y_train_), proc_num=20)\n",
    "    save_npy('dm_init_mc_plus_size' + str(size) + '.npy', init_sv)\n",
    "\n",
    "    # set a stone\n",
    "    mc_plus = src.mc_owen(x_train, y_train, x_test_, y_test_, model, union_d, stone_m * len(y_train), proc_num=20)\n",
    "    save_npy('dm_mc_plus_size' + str(size) + '.npy', mc_plus)\n",
    "\n",
    "    # mc\n",
    "    mc = src.mc_owen(x_train, y_train, x_test_, y_test_, model, union_d, mc_stone * len(y_train), proc_num=20)\n",
    "    save_npy('dm_mc_size'+ str(size) +'m' + str(mc_stone) + '.npy', mc)\n",
    "\n",
    "    # # walk the m choices\n",
    "    for m in m_choices:\n",
    "       # delta\n",
    "        delta_owen = src.DeltaOwen(x_train_, y_train_, x_test_, y_test_, model,\n",
    "                                        init_sv, union_d_)\n",
    "        m_delt_ov = delta_owen.del_single_point(len(y_train_) - 1, m=(len(y_train_)-1)*m, proc_num=20)\n",
    "\n",
    "        n_delta_owen = src.DeltaOwen(x_train_[:-1,:], y_train_[:-1], x_test_,\n",
    "                                        y_test_, model, m_delt_ov, union_d_delete_last)\n",
    "        delt_ov = n_delta_owen.del_single_point(len(y_train_) - 2, (len(y_train_)-2)*m, proc_num=20)\n",
    "        save_npy('dm_delta_size' + str(size) +'m' + str(m) + '.npy', delt_ov)"
   ]
  }
 ],
 "metadata": {
  "kernelspec": {
   "display_name": "Python 3",
   "language": "python",
   "name": "python3"
  },
  "language_info": {
   "codemirror_mode": {
    "name": "ipython",
    "version": 2
   },
   "file_extension": ".py",
   "mimetype": "text/x-python",
   "name": "python",
   "nbconvert_exporter": "python",
   "pygments_lexer": "ipython2",
   "version": "2.7.6"
  }
 },
 "nbformat": 4,
 "nbformat_minor": 0
}
